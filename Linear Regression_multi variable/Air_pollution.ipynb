{
 "cells": [
  {
   "cell_type": "markdown",
   "metadata": {},
   "source": [
    "# Air_Pollution Prediction"
   ]
  },
  {
   "cell_type": "code",
   "execution_count": 1,
   "metadata": {},
   "outputs": [],
   "source": [
    "import pandas as pd\n",
    "import numpy as np\n",
    "import matplotlib.pyplot as plt\n",
    "%matplotlib inline \n",
    "plt.style.use('seaborn')"
   ]
  },
  {
   "cell_type": "code",
   "execution_count": 22,
   "metadata": {},
   "outputs": [],
   "source": [
    "df=pd.read_csv('Train.csv')"
   ]
  },
  {
   "cell_type": "code",
   "execution_count": 23,
   "metadata": {},
   "outputs": [],
   "source": [
    "dfx1=df['feature_1']\n",
    "dfx2=df['feature_2']\n",
    "dfx3=df['feature_3']\n",
    "dfx4=df['feature_4']\n",
    "dfx5=df['feature_5']\n",
    "dfy=df['target']"
   ]
  },
  {
   "cell_type": "code",
   "execution_count": 24,
   "metadata": {},
   "outputs": [],
   "source": [
    "x1=dfx1.values.reshape((-1,))\n",
    "x2=dfx2.values.reshape((-1,))\n",
    "x3=dfx3.values.reshape((-1,))\n",
    "x4=dfx4.values.reshape((-1,))\n",
    "x5=dfx5.values.reshape((-1,))\n",
    "y=dfy.values.reshape((-1,))"
   ]
  },
  {
   "cell_type": "code",
   "execution_count": 25,
   "metadata": {},
   "outputs": [],
   "source": [
    "def hypothesis(x1,x2,x3,x4,x5,theta):\n",
    "    return theta[0]+theta[1]*x1+theta[2]*x2+theta[3]*x3+theta[4]*x4+theta[5]*x5    "
   ]
  },
  {
   "cell_type": "code",
   "execution_count": 26,
   "metadata": {},
   "outputs": [],
   "source": [
    "def error(x1,x2,x3,x4,x5,y,theta):\n",
    "    error=0\n",
    "    for i in range(x1.shape[0]):\n",
    "        hx=hypothesis(x1[i],x2[i],x3[i],x4[i],x5[i],theta)\n",
    "        error+=(hx-y[i])**2\n",
    "    return error"
   ]
  },
  {
   "cell_type": "code",
   "execution_count": 27,
   "metadata": {},
   "outputs": [],
   "source": [
    "def gradient(x1,x2,x3,x4,x5,y,theta):\n",
    "    grad=np.zeros((6,))\n",
    "    for i in range(x1.shape[0]):\n",
    "        hx=hypothesis(x1[i],x2[i],x3[i],x4[i],x5[i],theta)\n",
    "        grad[0]+=hx-y[i]\n",
    "        grad[1]+=(hx-y[i])*x1[i]\n",
    "        grad[2]+=(hx-y[i])*x2[i]\n",
    "        grad[3]+=(hx-y[i])*x3[i]\n",
    "        grad[4]+=(hx-y[i])*x4[i]\n",
    "        grad[5]+=(hx-y[i])*x5[i]\n",
    "    return grad"
   ]
  },
  {
   "cell_type": "code",
   "execution_count": 45,
   "metadata": {},
   "outputs": [],
   "source": [
    "def gradientDescent(x1,x2,x3,x4,x5,y,lrate=0.001):\n",
    "    theta=np.array([0.0,0.0,0.0,0.0,0.0,0.0])\n",
    "    max_itr=100\n",
    "    itr=0\n",
    "    error_list=[]\n",
    "    while(itr<=max_itr):\n",
    "        grad=gradient(x1,x2,x3,x4,x5,y,theta)\n",
    "        err=error(x1,x2,x3,x4,x5,y,theta)\n",
    "        error_list.append(err)\n",
    "        theta[0]-=lrate*grad[0]\n",
    "        theta[1]-=lrate*grad[1]\n",
    "        theta[2]-=lrate*grad[2]\n",
    "        theta[3]-=lrate*grad[3]\n",
    "        theta[4]-=lrate*grad[4]\n",
    "        theta[5]-=lrate*grad[5]\n",
    "        itr+=1\n",
    "    return theta,error_list"
   ]
  },
  {
   "cell_type": "code",
   "execution_count": 47,
   "metadata": {},
   "outputs": [],
   "source": [
    "final_theta,error_list=gradientDescent(x1,x2,x3,x4,x5,y)"
   ]
  },
  {
   "cell_type": "code",
   "execution_count": 48,
   "metadata": {},
   "outputs": [
    {
     "name": "stdout",
     "output_type": "stream",
     "text": [
      "[4882403.757139554, 4831210.310841426, 4812201.013900255, 4804871.300421583, 4801941.328284648, 4800730.9918842055, 4800216.48459869, 4799992.4410574585, 4799892.946431776, 4799848.06537964, 4799827.570055608, 4799818.121253606, 4799813.733153956, 4799811.683832083, 4799810.722654776, 4799810.270365659, 4799810.057006265, 4799809.956165987, 4799809.908436395, 4799809.885819967, 4799809.875094167, 4799809.870004167, 4799809.867587463, 4799809.866439594, 4799809.865894219, 4799809.86563505, 4799809.865511861, 4799809.865453305, 4799809.865425464, 4799809.86541223, 4799809.865405931, 4799809.865402939, 4799809.865401518, 4799809.865400841, 4799809.86540052, 4799809.8654003665, 4799809.865400297, 4799809.865400262, 4799809.865400241, 4799809.865400239, 4799809.86540023, 4799809.865400228, 4799809.865400229, 4799809.865400226, 4799809.865400229, 4799809.865400228, 4799809.86540023, 4799809.865400226, 4799809.865400226, 4799809.865400228, 4799809.865400228, 4799809.865400224, 4799809.865400231, 4799809.86540023, 4799809.865400229, 4799809.865400227, 4799809.865400225, 4799809.865400233, 4799809.865400234, 4799809.86540023, 4799809.865400228, 4799809.865400229, 4799809.865400227, 4799809.865400224, 4799809.865400225, 4799809.86540023, 4799809.8654002305, 4799809.86540023, 4799809.8654002305, 4799809.865400227, 4799809.865400227, 4799809.865400228, 4799809.8654002305, 4799809.865400228, 4799809.865400228, 4799809.8654002305, 4799809.86540023, 4799809.865400229, 4799809.865400226, 4799809.865400228, 4799809.865400227, 4799809.865400227, 4799809.865400228, 4799809.865400229, 4799809.8654002305, 4799809.8654002305, 4799809.86540023, 4799809.865400231, 4799809.865400231, 4799809.8654002305, 4799809.8654002305, 4799809.8654002305, 4799809.8654002305, 4799809.8654002305, 4799809.8654002305, 4799809.8654002305, 4799809.8654002305, 4799809.8654002305, 4799809.8654002305, 4799809.8654002305, 4799809.8654002305]\n"
     ]
    }
   ],
   "source": [
    "print(error_list)"
   ]
  },
  {
   "cell_type": "code",
   "execution_count": 44,
   "metadata": {},
   "outputs": [
    {
     "data": {
      "image/png": "[encoded data removed]",
      "text/plain": [
       "<Figure size 432x288 with 1 Axes>"
      ]
     },
     "metadata": {
      "needs_background": "light"
     },
     "output_type": "display_data"
    }
   ],
   "source": [
    "plt.plot(error_list)\n",
    "plt.show()"
   ]
  },
  {
   "cell_type": "code",
   "execution_count": 31,
   "metadata": {},
   "outputs": [],
   "source": [
    "d=pd.read_csv('Test.csv')\n",
    "dx1=d['feature_1']\n",
    "dx2=d['feature_2']\n",
    "dx3=d['feature_3']\n",
    "dx4=d['feature_4']\n",
    "dx5=d['feature_5']\n"
   ]
  },
  {
   "cell_type": "code",
   "execution_count": 32,
   "metadata": {},
   "outputs": [],
   "source": [
    "x1=dx1.values.reshape((-1,))\n",
    "x2=dx2.values.reshape((-1,))\n",
    "x3=dx3.values.reshape((-1,))\n",
    "x4=dx4.values.reshape((-1,))\n",
    "x5=dx5.values.reshape((-1,))"
   ]
  },
  {
   "cell_type": "code",
   "execution_count": 2,
   "metadata": {},
   "outputs": [
    {
     "ename": "NameError",
     "evalue": "name 'sns' is not defined",
     "output_type": "error",
     "traceback": [
      "\u001b[1;31m---------------------------------------------------------------------------\u001b[0m",
      "\u001b[1;31mNameError\u001b[0m                                 Traceback (most recent call last)",
      "\u001b[1;32m<ipython-input-2-41170706a752>\u001b[0m in \u001b[0;36m<module>\u001b[1;34m\u001b[0m\n\u001b[1;32m----> 1\u001b[1;33m \u001b[0msns\u001b[0m\u001b[1;33m.\u001b[0m\u001b[0mpairplot\u001b[0m\u001b[1;33m(\u001b[0m\u001b[0mx1\u001b[0m\u001b[1;33m,\u001b[0m \u001b[0mhypothesis\u001b[0m\u001b[1;33m(\u001b[0m\u001b[0mx1\u001b[0m\u001b[1;33m,\u001b[0m\u001b[0mx2\u001b[0m\u001b[1;33m,\u001b[0m\u001b[0mx3\u001b[0m\u001b[1;33m,\u001b[0m\u001b[0mx4\u001b[0m\u001b[1;33m,\u001b[0m\u001b[0mx5\u001b[0m\u001b[1;33m,\u001b[0m\u001b[0mfinal_theta\u001b[0m\u001b[1;33m)\u001b[0m\u001b[1;33m,\u001b[0m\u001b[0mcolor\u001b[0m \u001b[1;33m=\u001b[0m \u001b[1;34m'Red'\u001b[0m\u001b[1;33m,\u001b[0m\u001b[0mlabel\u001b[0m\u001b[1;33m=\u001b[0m\u001b[1;34m'Predicted'\u001b[0m\u001b[1;33m)\u001b[0m\u001b[1;33m\u001b[0m\u001b[1;33m\u001b[0m\u001b[0m\n\u001b[0m\u001b[0;32m      2\u001b[0m \u001b[0mplt\u001b[0m\u001b[1;33m.\u001b[0m\u001b[0mlegend\u001b[0m\u001b[1;33m(\u001b[0m\u001b[1;33m)\u001b[0m\u001b[1;33m\u001b[0m\u001b[1;33m\u001b[0m\u001b[0m\n\u001b[0;32m      3\u001b[0m \u001b[0mplt\u001b[0m\u001b[1;33m.\u001b[0m\u001b[0mshow\u001b[0m\u001b[1;33m(\u001b[0m\u001b[1;33m)\u001b[0m\u001b[1;33m\u001b[0m\u001b[1;33m\u001b[0m\u001b[0m\n",
      "\u001b[1;31mNameError\u001b[0m: name 'sns' is not defined"
     ]
    }
   ],
   "source": [
    "sns.pairplot(x1, hypothesis(x1,x2,x3,x4,x5,final_theta),color = 'Red',label='Predicted')\n",
    "plt.legend()\n",
    "plt.show()"
   ]
  }
 ],
 "metadata": {
  "kernelspec": {
   "display_name": "Python 3",
   "language": "python",
   "name": "python3"
  },
  "language_info": {
   "codemirror_mode": {
    "name": "ipython",
    "version": 3
   },
   "file_extension": ".py",
   "mimetype": "text/x-python",
   "name": "python",
   "nbconvert_exporter": "python",
   "pygments_lexer": "ipython3",
   "version": "3.7.6"
  }
 },
 "nbformat": 4,
 "nbformat_minor": 4
}
